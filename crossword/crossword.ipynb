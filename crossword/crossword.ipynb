{
 "cells": [
  {
   "cell_type": "code",
   "execution_count": null,
   "metadata": {},
   "outputs": [],
   "source": [
    "from selenium.webdriver.common.action_chains import ActionChains\n",
    "from webdriver_manager.chrome import ChromeDriverManager\n",
    "from selenium.webdriver.chrome.service import Service\n",
    "from selenium.webdriver.common.by import By\n",
    "from selenium import webdriver\n",
    "\n",
    "browser = webdriver.Chrome(service=Service(ChromeDriverManager().install()))\n",
    "browser.get(\"https://thewordsearch.org/\")\n",
    "action = ActionChains(browser)"
   ]
  },
  {
   "cell_type": "code",
   "execution_count": null,
   "metadata": {},
   "outputs": [],
   "source": [
    "def get_lines(board):\n",
    "    max_row = len(board)\n",
    "    max_col = len(board[0])\n",
    "\n",
    "    rows = [[] for _ in range(max_row)]\n",
    "    columns = [[] for _ in range(max_col)]\n",
    "    forward_diagonals = [[] for _ in range(max_row + max_col - 1)]\n",
    "    backward_diagonals = [[] for _ in range(len(forward_diagonals))]\n",
    "\n",
    "    for x in range(max_col):\n",
    "        for y in range(max_row):\n",
    "            rows[y].append(board[y][x])\n",
    "            columns[x].append(board[y][x])\n",
    "            forward_diagonals[x + y].append(board[y][x])\n",
    "            backward_diagonals[x - y - (- max_row + 1)].append(board[y][x])\n",
    "\n",
    "    return rows, columns, forward_diagonals, backward_diagonals"
   ]
  },
  {
   "cell_type": "code",
   "execution_count": null,
   "metadata": {},
   "outputs": [],
   "source": [
    "def get_words_to_find():\n",
    "    try:\n",
    "        return list(map(lambda w: w.text,\n",
    "            filter(lambda w: \"wordFound\" not in w.get_attribute(\"class\"),\n",
    "                browser.find_element(By.ID, \"words\").find_elements(By.TAG_NAME, \"li\"))\n",
    "            )\n",
    "        )\n",
    "    except: return []"
   ]
  },
  {
   "cell_type": "code",
   "execution_count": null,
   "metadata": {},
   "outputs": [],
   "source": [
    "def check_if_exists(line, cells):\n",
    "    line = \"\".join(line)\n",
    "\n",
    "    for word in get_words_to_find():\n",
    "        found = False\n",
    "\n",
    "        if word in line:\n",
    "            start, found = line.find(word), True\n",
    "            end = start + len(word) - 1\n",
    "\n",
    "        elif word in line[::-1]:\n",
    "            start, found = -(line[::-1].find(word) + 1), True\n",
    "            end = start - len(word) + 1\n",
    "\n",
    "        if found:\n",
    "            action.drag_and_drop(cells[start], cells[end])\n",
    "            action.perform()"
   ]
  },
  {
   "cell_type": "code",
   "execution_count": null,
   "metadata": {},
   "outputs": [],
   "source": [
    "board = browser.find_element(By.ID, \"wordsearchGrid\").find_elements(By.CLASS_NAME, \"row\")\n",
    "trows, tcolumns, tfrontd, tbackd = get_lines([ element.text.split(\"\\n\") for element in board])\n",
    "rows, columns, frontd, backd = get_lines([ element.find_elements(By.CLASS_NAME, \"cell\") for element in board])\n",
    "\n",
    "for dimension in [(trows, rows), (tcolumns, columns), (tfrontd, frontd), (tbackd, backd)]:\n",
    "    text_lines, cells_lines = dimension\n",
    "\n",
    "    [ check_if_exists(line, cells_lines[l]) for l, line in enumerate(text_lines) ]\n",
    "browser.find_element(By.ID, \"js-ws-new-game-popup\").click()"
   ]
  },
  {
   "cell_type": "code",
   "execution_count": null,
   "metadata": {},
   "outputs": [],
   "source": [
    "browser.close()"
   ]
  }
 ],
 "metadata": {
  "kernelspec": {
   "display_name": "Python 3.10.5 ('.venv': venv)",
   "language": "python",
   "name": "python3"
  },
  "language_info": {
   "codemirror_mode": {
    "name": "ipython",
    "version": 3
   },
   "file_extension": ".py",
   "mimetype": "text/x-python",
   "name": "python",
   "nbconvert_exporter": "python",
   "pygments_lexer": "ipython3",
   "version": "3.10.5"
  },
  "orig_nbformat": 4,
  "vscode": {
   "interpreter": {
    "hash": "941648878f0c816f2b4bbcc4957a15bab7bdad4cdb24c123fee01d78d3d1f5a4"
   }
  }
 },
 "nbformat": 4,
 "nbformat_minor": 2
}
