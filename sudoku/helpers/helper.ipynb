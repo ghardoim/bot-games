{
 "cells": [
  {
   "cell_type": "code",
   "execution_count": null,
   "metadata": {},
   "outputs": [],
   "source": [
    "from selenium.webdriver.remote.webelement import WebElement\n",
    "from selenium.webdriver.common.by import By\n",
    "from selenium.webdriver import Safari\n",
    "\n",
    "browser = Safari()"
   ]
  },
  {
   "cell_type": "code",
   "execution_count": null,
   "metadata": {},
   "outputs": [],
   "source": [
    "browser.get(\"https://www.sudokuonline.io/pt/killer\")\n",
    "browser.maximize_window()"
   ]
  },
  {
   "cell_type": "code",
   "execution_count": null,
   "metadata": {},
   "outputs": [],
   "source": [
    "for xpath in [\"//a[@id='puzzleDifficulty']\", \"//a[contains(text(), 'Muito')]\", \"//input[@id='toggleMistakes']\"]:\n",
    "    browser.execute_script(\"arguments[0].click()\", browser.find_element(By.XPATH, xpath))"
   ]
  },
  {
   "cell_type": "code",
   "execution_count": null,
   "metadata": {},
   "outputs": [],
   "source": [
    "board = browser.find_element(By.ID, \"sudoku\")\n",
    "board = browser.find_element(By.ID, \"sudoku\")\n",
    "board = browser.find_element(By.ID, \"sudoku\")"
   ]
  },
  {
   "cell_type": "code",
   "execution_count": null,
   "metadata": {},
   "outputs": [],
   "source": [
    "def get_values_from_this(direction:str, cell:WebElement) -> list:\n",
    "    return [ int(c) for c in [c.get_attribute(\"data-value\") \\\n",
    "        for c in board.find_elements(By.XPATH, \"//div[@data-{}={}]\".format(direction, cell.get_attribute(f\"data-{direction}\")))] if c ]"
   ]
  },
  {
   "cell_type": "code",
   "execution_count": null,
   "metadata": {},
   "outputs": [],
   "source": [
    "browser.execute_script(\"arguments[0].click()\", browser.find_element(By.ID, \"notes\"))\n",
    "\n",
    "for cell in board.find_elements(By.CLASS_NAME, \"cell\"):\n",
    "    row, column, square = [get_values_from_this(dimension, cell) for dimension in [\"row\", \"column\", \"square\"]]\n",
    "    cell.send_keys(\"\".join([str(i) for i in range(1, 10) if i not in row + column + square]))\n",
    "\n",
    "browser.execute_script(\"arguments[0].click()\", browser.find_element(By.ID, \"notes\"))"
   ]
  },
  {
   "cell_type": "code",
   "execution_count": null,
   "metadata": {},
   "outputs": [],
   "source": [
    "def try_values_for_this(direction:str, cell:WebElement) -> None:\n",
    "    can_be = []\n",
    "    for cell in board.find_elements(By.XPATH, f\"//div[@data-row={cell.get_attribute('data-{}'.format(direction))}]\"):\n",
    "        if not cell.get_attribute(\"data-value\"):\n",
    "\n",
    "            row, column, square = [ get_values_from_this(space, cell) for space in [\"row\", \"column\", \"square\"] ]\n",
    "            can_be.append((cell, [i for i in range(1, 10) if i not in row + column + square]))\n",
    "\n",
    "    for cell, values in can_be:\n",
    "        if 1 == len(values):\n",
    "            cell.send_keys(str(values[0]))\n",
    "            print(f\"in this {direction} {cell.get_attribute('data-{}'.format(direction))} here the only option is \", values)"
   ]
  },
  {
   "cell_type": "code",
   "execution_count": null,
   "metadata": {},
   "outputs": [],
   "source": [
    "while [cell for cell in board.find_elements(By.CLASS_NAME, \"cell\") if not cell.get_attribute(\"data-value\")]:\n",
    "    for s in range(9):\n",
    "        could_be = []\n",
    "\n",
    "        for cell in board.find_elements(By.XPATH, f\"//div[@data-square={s}]\"):\n",
    "            if not cell.get_attribute(\"data-value\"):\n",
    "\n",
    "                print(\"current cell: \", cell.get_attribute(\"data-row\"), cell.get_attribute(\"data-column\"))\n",
    "\n",
    "                try_values_for_this(\"row\", cell)\n",
    "                try_values_for_this(\"column\", cell)\n",
    "\n",
    "                row, column, square = [ get_values_from_this(space, cell) for space in [\"row\", \"column\", \"square\"] ]\n",
    "                could_be.append((cell, [i for i in range(1, 10) if i not in row + column + square]))\n",
    "\n",
    "        possible_values = [v for value in could_be for v in value[-1]]\n",
    "\n",
    "        for cell, values in could_be:\n",
    "            cell.send_keys(str([value for value in values if 1 == possible_values.count(value)]))\n",
    "        "
   ]
  },
  {
   "cell_type": "code",
   "execution_count": null,
   "metadata": {},
   "outputs": [],
   "source": [
    "browser.close()\n",
    "browser.quit()"
   ]
  }
 ],
 "metadata": {
  "kernelspec": {
   "display_name": "Python 3",
   "language": "python",
   "name": "python3"
  },
  "language_info": {
   "codemirror_mode": {
    "name": "ipython",
    "version": 3
   },
   "file_extension": ".py",
   "mimetype": "text/x-python",
   "name": "python",
   "nbconvert_exporter": "python",
   "pygments_lexer": "ipython3",
   "version": "3.13.2"
  }
 },
 "nbformat": 4,
 "nbformat_minor": 2
}
