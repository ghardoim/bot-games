{
 "cells": [
  {
   "cell_type": "code",
   "execution_count": null,
   "metadata": {},
   "outputs": [],
   "source": [
    "from webdriver_manager.chrome import ChromeDriverManager\n",
    "from selenium.webdriver.chrome.service import Service\n",
    "from selenium.webdriver.common.by import By\n",
    "from selenium import webdriver\n",
    "from os import getcwd\n",
    "\n",
    "browser = webdriver.Chrome(service=Service(ChromeDriverManager().install()))\n",
    "browser.get(fr\"{getcwd()}\\sudoku.html\")"
   ]
  },
  {
   "cell_type": "code",
   "execution_count": null,
   "metadata": {},
   "outputs": [],
   "source": [
    "def get_same(what:str, classes:list) -> list:\n",
    "    return list(map(lambda div: div.text, filter(lambda div: div.text,\n",
    "        browser.find_elements(By.CLASS_NAME, list(filter(lambda _name: _name.startswith(what), classes))[-1]\n",
    "    ))))"
   ]
  },
  {
   "cell_type": "code",
   "execution_count": null,
   "metadata": {},
   "outputs": [],
   "source": [
    "browser.refresh()\n",
    "empty = browser.find_elements(By.CLASS_NAME, \"empty\")\n",
    "options = browser.find_elements(By.CLASS_NAME, \"number\")"
   ]
  },
  {
   "cell_type": "code",
   "execution_count": null,
   "metadata": {},
   "outputs": [],
   "source": [
    "for square in empty[::-1]:\n",
    "    classes = square.get_attribute(\"class\").split(\" \")\n",
    "    same_column = get_same(\"column\", classes)\n",
    "    same_block = get_same(\"block\", classes)\n",
    "    same_row = get_same(\"row\", classes)\n",
    "\n",
    "    for guess in list(filter(lambda option:\n",
    "        option.text not in same_block and\n",
    "        option.text not in same_row and\n",
    "        option.text not in same_column,\n",
    "        options)):\n",
    "\n",
    "        guess.click()\n",
    "        square.click()"
   ]
  },
  {
   "cell_type": "code",
   "execution_count": null,
   "metadata": {},
   "outputs": [],
   "source": [
    "browser.close()"
   ]
  }
 ],
 "metadata": {
  "kernelspec": {
   "display_name": "Python 3.10.5 ('.venv': venv)",
   "language": "python",
   "name": "python3"
  },
  "language_info": {
   "codemirror_mode": {
    "name": "ipython",
    "version": 3
   },
   "file_extension": ".py",
   "mimetype": "text/x-python",
   "name": "python",
   "nbconvert_exporter": "python",
   "pygments_lexer": "ipython3",
   "version": "3.10.5"
  },
  "orig_nbformat": 4,
  "vscode": {
   "interpreter": {
    "hash": "8391810a84c296fff89668c2e4a1704f9b783e8a34676e7dbb8cd6a62df5a070"
   }
  }
 },
 "nbformat": 4,
 "nbformat_minor": 2
}
